{
 "cells": [
  {
   "cell_type": "code",
   "execution_count": 85,
   "metadata": {
    "collapsed": false
   },
   "outputs": [],
   "source": [
    "import pandas as pd\n",
    "import numpy as np"
   ]
  },
  {
   "cell_type": "code",
   "execution_count": 86,
   "metadata": {
    "collapsed": false
   },
   "outputs": [],
   "source": [
    "M = pd.read_csv('data/movie_reviews.csv', index_col='Name')"
   ]
  },
  {
   "cell_type": "code",
   "execution_count": 87,
   "metadata": {
    "collapsed": false
   },
   "outputs": [],
   "source": [
    "def pearson(s1, s2):\n",
    "    \"\"\"Take two pd.Series objects and return a pearson correlation.\"\"\"\n",
    "    s1_c = s1 - s1.mean()\n",
    "    s2_c = s2 - s2.mean()\n",
    "    return np.sum(s1_c * s2_c) / np.sqrt(np.sum(s1_c ** 2) * np.sum(s2_c ** 2))"
   ]
  },
  {
   "cell_type": "code",
   "execution_count": 88,
   "metadata": {
    "collapsed": false
   },
   "outputs": [],
   "source": [
    "def get_recs(movie_name, M, num):\n",
    "\n",
    "    import numpy as np\n",
    "    reviews = []\n",
    "    for title in M.columns:\n",
    "        if title == movie_name:\n",
    "            continue\n",
    "        cor = pearson(M[movie_name], M[title])\n",
    "        if np.isnan(cor):\n",
    "            continue\n",
    "        else:\n",
    "            reviews.append((title, cor))\n",
    "    \n",
    "    reviews.sort(key=lambda tup: tup[1], reverse=True)\n",
    "    return reviews[:num]"
   ]
  },
  {
   "cell_type": "markdown",
   "metadata": {},
   "source": [
    "### Question 1:  What movie is most Similar to 'The fault in our stars'\n"
   ]
  },
  {
   "cell_type": "code",
   "execution_count": 89,
   "metadata": {
    "collapsed": false
   },
   "outputs": [
    {
     "name": "stdout",
     "output_type": "stream",
     "text": [
      "Most similar to 'The fault in our stars' is 'Malificent'\n"
     ]
    }
   ],
   "source": [
    "recs = get_recs('The Fault in Our Stars', M, 1)\n",
    "print(\"Most similar to 'The fault in our stars' is '{}'\".format(recs[0][0]))"
   ]
  },
  {
   "cell_type": "markdown",
   "metadata": {},
   "source": [
    "### Question 2:  Which movie(s) would you most like to see?"
   ]
  },
  {
   "cell_type": "code",
   "execution_count": 90,
   "metadata": {
    "collapsed": false
   },
   "outputs": [
    {
     "name": "stdout",
     "output_type": "stream",
     "text": [
      "Movies I would most like to see: \n",
      "Divergent\n",
      "Malificent\n"
     ]
    },
    {
     "name": "stderr",
     "output_type": "stream",
     "text": [
      "/Users/asyam/anaconda3/lib/python3.6/site-packages/ipykernel/__main__.py:4: FutureWarning: sort is deprecated, use sort_values(inplace=True) for INPLACE sorting\n"
     ]
    }
   ],
   "source": [
    "# Movies I've seen\n",
    "seen_movies = M.ix['Anupom Syam'].dropna()\n",
    "# Movie I've rated the highest\n",
    "seen_movies.sort(ascending=False)\n",
    "# The name of the movie I've rated the highest\n",
    "most_fav_movie = seen_movies.index[0]\n",
    "# Find similar movies to my favorite movie\n",
    "similar_movies = get_recs(most_fav_movie, M, 3)\n",
    "# Remove movies I have already watched \n",
    "similar_movies = [movie for movie in similar_movies if movie[0] not in seen_movies.index]\n",
    "print('Movies I would most like to see: ')\n",
    "for movie in similar_movies:\n",
    "    print(movie[0])"
   ]
  },
  {
   "cell_type": "markdown",
   "metadata": {},
   "source": [
    "### Question 3: For all the movies you haven't seen, can you predict how you'd rate them using your class reviews?"
   ]
  },
  {
   "cell_type": "code",
   "execution_count": 91,
   "metadata": {
    "collapsed": false
   },
   "outputs": [
    {
     "name": "stdout",
     "output_type": "stream",
     "text": [
      "Predicted rating for movie 'American Sniper' is 4.0\n",
      "Predicted rating for movie 'The Hunger Games: Mockingjay - Part 1' is 3.0\n",
      "Predicted rating for movie 'The Lego Movie' is 3.0\n",
      "Predicted rating for movie 'Malificent' is 3.0\n",
      "Predicted rating for movie 'Divergent' is 5.0\n",
      "Predicted rating for movie 'The Fault in Our Stars' is 4.0\n",
      "Predicted rating for movie 'Unbroken' is nan\n"
     ]
    }
   ],
   "source": [
    "import math\n",
    "unseen_movies = [movie for movie, rating in M.ix['Anupom Syam'].iteritems() if math.isnan(rating)]\n",
    "for unseen_movie in unseen_movies:\n",
    "    similar_movies = get_recs(unseen_movie, M, 10)\n",
    "    # Get all similar movies with corelation > 0.1\n",
    "    similar_movies = [movie for movie in similar_movies if movie[1] > 0.1]\n",
    "    # Get only the movies I watched\n",
    "    similar_movies = [movie for movie in similar_movies if movie[0] in seen_movies.index]\n",
    "    predicted_rating = seen_movies[similar_movies[0][0]] if similar_movies else float('nan')\n",
    "    print(\"Predicted rating for movie '{}' is {}\".format(unseen_movie, predicted_rating))"
   ]
  }
 ],
 "metadata": {
  "kernelspec": {
   "display_name": "Python 3",
   "language": "python",
   "name": "python3"
  },
  "language_info": {
   "codemirror_mode": {
    "name": "ipython",
    "version": 3
   },
   "file_extension": ".py",
   "mimetype": "text/x-python",
   "name": "python",
   "nbconvert_exporter": "python",
   "pygments_lexer": "ipython3",
   "version": "3.6.0"
  }
 },
 "nbformat": 4,
 "nbformat_minor": 0
}
