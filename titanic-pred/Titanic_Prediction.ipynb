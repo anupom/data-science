{
 "cells": [
  {
   "cell_type": "code",
   "execution_count": 1,
   "metadata": {
    "collapsed": false
   },
   "outputs": [
    {
     "name": "stderr",
     "output_type": "stream",
     "text": [
      "/Users/asyam/anaconda3/lib/python3.6/site-packages/sklearn/cross_validation.py:44: DeprecationWarning: This module was deprecated in version 0.18 in favor of the model_selection module into which all the refactored classes and functions are moved. Also note that the interface of the new CV iterators are different from that of this module. This module will be removed in 0.20.\n",
      "  \"This module will be removed in 0.20.\", DeprecationWarning)\n"
     ]
    }
   ],
   "source": [
    "from sklearn.ensemble import RandomForestClassifier\n",
    "from sklearn.ensemble import RandomForestRegressor\n",
    "from sklearn.neural_network import MLPClassifier\n",
    "from sklearn.preprocessing import StandardScaler\n",
    "from sklearn.cross_validation import train_test_split\n",
    "from sklearn.metrics import roc_auc_score\n",
    "from sklearn import cross_validation\n",
    "import pandas as pd\n",
    "import re\n",
    "import math\n",
    "%matplotlib inline"
   ]
  },
  {
   "cell_type": "markdown",
   "metadata": {
    "collapsed": false
   },
   "source": [
    "### Strategy\n",
    "* PassengerId - Remove \n",
    "* Cabin - Remove as 887 missing values and of low importance\n",
    "* Pclass - Numerical, keep it as it is\n",
    "* SibSp - Numerical, keep it as it is\n",
    "* Parch - Numerical, keep it as it is\n",
    "* Fare - Numerical, keep it as it is\n",
    "* Sex - Categorical, creat dummy variables\n",
    "* Embarked - Categorical, creat dummy variables, handle missing values\n",
    "* Ticket, Keep first letter\n",
    "* Age - Numerical, predict missing values\n",
    "* Name - Find salutation from the name"
   ]
  },
  {
   "cell_type": "code",
   "execution_count": 2,
   "metadata": {
    "collapsed": true
   },
   "outputs": [],
   "source": [
    "X = pd.read_csv(\"data/train.csv\")\n",
    "y = X.pop(\"Survived\")"
   ]
  },
  {
   "cell_type": "code",
   "execution_count": 3,
   "metadata": {
    "collapsed": true
   },
   "outputs": [],
   "source": [
    "def create_dummies(X, fields):\n",
    "    for field in fields:\n",
    "        X[field].fillna(\"Missing\", inplace=True)\n",
    "        dummies = pd.get_dummies(X[field], prefix=field)\n",
    "        X = pd.concat([X, dummies], axis=1)\n",
    "        X.drop([field], axis=1, inplace=True)\n",
    "    return X"
   ]
  },
  {
   "cell_type": "code",
   "execution_count": 4,
   "metadata": {
    "collapsed": true
   },
   "outputs": [],
   "source": [
    "def fillna_with_prediction(X):\n",
    "    for field in X:\n",
    "        # If this field is not numeric\n",
    "        if X[field].dtype == \"object\":\n",
    "            continue\n",
    "        # If this field does not contain null\n",
    "        if not X[field].isnull().any():\n",
    "            continue\n",
    "        X_full = X.dropna()\n",
    "        y_full = X_full.pop(field)\n",
    "        model = RandomForestRegressor(n_jobs=-1, n_estimators=1000, random_state=42)\n",
    "        model.fit(X_full, y_full)\n",
    "        X_null = X[X[field].isnull()]\n",
    "        X_null.pop(field)\n",
    "        y_null = model.predict(X_null)\n",
    "        indexes = X[X[field].isnull()].index.tolist()\n",
    "        y_null_series = pd.Series(y_null, index=indexes)\n",
    "        X[field] = X[field].fillna(value=y_null_series)    \n",
    "        #na_models[field] = model\n",
    "    return X"
   ]
  },
  {
   "cell_type": "code",
   "execution_count": 5,
   "metadata": {
    "collapsed": true
   },
   "outputs": [],
   "source": [
    "def fix_tickets(X):\n",
    "    # Fix ticket, get the first letter if available, else set X\n",
    "    tickets = []\n",
    "    for ticket in X.Ticket:\n",
    "        ticket_str = re.sub('[^A-Z]', '', ticket)\n",
    "        if ticket_str:\n",
    "            tickets.append(ticket_str[0])\n",
    "        else:\n",
    "            tickets.append('X')\n",
    "    X['Ticket'] = tickets\n",
    "    return X"
   ]
  },
  {
   "cell_type": "code",
   "execution_count": 6,
   "metadata": {
    "collapsed": true
   },
   "outputs": [],
   "source": [
    "def fix_salutations(X):\n",
    "    # Figure out salutations from name\n",
    "    salutations =  []\n",
    "    for index, row in X.iterrows():\n",
    "        salutation = str(re.search(\", (\\w+).\", row['Name']).group(1)).strip()\n",
    "        salutations.append(salutation)\n",
    "    X['Salutation'] = salutations\n",
    "    return X"
   ]
  },
  {
   "cell_type": "code",
   "execution_count": 7,
   "metadata": {
    "collapsed": true
   },
   "outputs": [],
   "source": [
    "X = fix_tickets(X)\n",
    "X = fix_salutations(X)\n",
    "# Drop variables that have very little importance\n",
    "X.drop(['Name', 'PassengerId', 'Cabin'], axis=1, inplace=True)\n",
    "X = create_dummies(X, ['Sex', 'Ticket', 'Embarked', 'Salutation'])\n",
    "X = fillna_with_prediction(X)"
   ]
  },
  {
   "cell_type": "markdown",
   "metadata": {},
   "source": [
    "### Random Forest Model"
   ]
  },
  {
   "cell_type": "code",
   "execution_count": 8,
   "metadata": {
    "collapsed": false
   },
   "outputs": [
    {
     "name": "stdout",
     "output_type": "stream",
     "text": [
      "AUC Score:  0.887951512053\n"
     ]
    }
   ],
   "source": [
    "model_rf = RandomForestRegressor(n_estimators=5000, \n",
    "                              oob_score=True, \n",
    "                              n_jobs=-1, \n",
    "                              random_state=42, \n",
    "                              max_features=\"auto\", \n",
    "                              min_samples_leaf=7)\n",
    "model_rf.fit(X, y)\n",
    "roc = roc_auc_score(y, model_rf.oob_prediction_)\n",
    "print (\"AUC Score: \", roc)"
   ]
  },
  {
   "cell_type": "markdown",
   "metadata": {},
   "source": [
    "### Multi-layer Perceptron Classifier"
   ]
  },
  {
   "cell_type": "code",
   "execution_count": 9,
   "metadata": {
    "collapsed": false
   },
   "outputs": [
    {
     "data": {
      "text/plain": [
       "MLPClassifier(activation='relu', alpha=0.0001, batch_size='auto', beta_1=0.9,\n",
       "       beta_2=0.999, early_stopping=False, epsilon=1e-08,\n",
       "       hidden_layer_sizes=(1000, 5), learning_rate='constant',\n",
       "       learning_rate_init=0.001, max_iter=1000, momentum=0.9,\n",
       "       nesterovs_momentum=True, power_t=0.5, random_state=42, shuffle=True,\n",
       "       solver='adam', tol=0.0001, validation_fraction=0.1, verbose=False,\n",
       "       warm_start=False)"
      ]
     },
     "execution_count": 9,
     "metadata": {},
     "output_type": "execute_result"
    }
   ],
   "source": [
    "X_train, X_test, y_train, y_test = train_test_split(X, y, test_size=.2, random_state=42)\n",
    "\n",
    "scaler = StandardScaler()  \n",
    "scaler.fit(X_train)  \n",
    "X_train = scaler.transform(X_train)\n",
    "X_test = scaler.transform(X_test)  \n",
    "\n",
    "model_mlp = model = MLPClassifier(hidden_layer_sizes=(1000, 5), max_iter=1000, random_state=42)\n",
    "model_mlp.fit(X_test, y_test)"
   ]
  },
  {
   "cell_type": "code",
   "execution_count": 10,
   "metadata": {
    "collapsed": false
   },
   "outputs": [
    {
     "name": "stdout",
     "output_type": "stream",
     "text": [
      "AUC Score:  0.999099099099\n"
     ]
    }
   ],
   "source": [
    "auc = roc_auc_score(y_test, model_mlp.predict_proba(X_test)[:,1])\n",
    "print (\"AUC Score: \", auc)"
   ]
  },
  {
   "cell_type": "markdown",
   "metadata": {},
   "source": [
    "### Calculate CV for both models"
   ]
  },
  {
   "cell_type": "code",
   "execution_count": 12,
   "metadata": {
    "collapsed": false
   },
   "outputs": [],
   "source": [
    "def print_cv(model, X, y, cv=10):\n",
    "    scores = cross_validation.cross_val_score(model, X, y, cv=cv)\n",
    "    mean_score = scores.mean()\n",
    "    std_dev = scores.std()\n",
    "    std_error = scores.std() / math.sqrt(scores.shape[0])\n",
    "    ci =  2.262 * std_error\n",
    "    lower_bound = mean_score - ci\n",
    "    upper_bound = mean_score + ci\n",
    "\n",
    "    print(\"Score is %f +/-  %f\" % (mean_score, ci))\n",
    "    print('95 percent probability that if this experiment were repeated over and over the average score would be between %f and %f' % (lower_bound, upper_bound))    "
   ]
  },
  {
   "cell_type": "code",
   "execution_count": 15,
   "metadata": {
    "collapsed": false
   },
   "outputs": [
    {
     "name": "stdout",
     "output_type": "stream",
     "text": [
      "CV Score for RandomForest Model\n",
      "Score is 0.452679 +/-  0.069591\n",
      "95 percent probability that if this experiment were repeated over and over the average score would be between 0.383088 and 0.522270\n"
     ]
    }
   ],
   "source": [
    "print('CV Score for RandomForest Model')\n",
    "print_cv(model_rf, X, y)"
   ]
  },
  {
   "cell_type": "code",
   "execution_count": 16,
   "metadata": {
    "collapsed": false
   },
   "outputs": [
    {
     "name": "stdout",
     "output_type": "stream",
     "text": [
      "CV Score for MLP Model\n",
      "Score is 0.666648 +/-  0.036409\n",
      "95 percent probability that if this experiment were repeated over and over the average score would be between 0.630239 and 0.703057\n"
     ]
    }
   ],
   "source": [
    "print('CV Score for MLP Model')\n",
    "print_cv(model_mlp, X, y)"
   ]
  },
  {
   "cell_type": "code",
   "execution_count": null,
   "metadata": {
    "collapsed": true
   },
   "outputs": [],
   "source": []
  }
 ],
 "metadata": {
  "kernelspec": {
   "display_name": "Python 3",
   "language": "python",
   "name": "python3"
  },
  "language_info": {
   "codemirror_mode": {
    "name": "ipython",
    "version": 3
   },
   "file_extension": ".py",
   "mimetype": "text/x-python",
   "name": "python",
   "nbconvert_exporter": "python",
   "pygments_lexer": "ipython3",
   "version": "3.6.0"
  }
 },
 "nbformat": 4,
 "nbformat_minor": 2
}
