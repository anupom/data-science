{
 "cells": [
  {
   "cell_type": "markdown",
   "metadata": {},
   "source": [
    "## Boston Housing Assignment\n",
    "\n",
    "In this assignment you'll be using linear regression to estimate the cost of house in boston, using a well known dataset.\n",
    "\n",
    "Goals:\n",
    "+  Measure the performance of the model I created using $R^{2}$ and MSE\n",
    "> Learn how to use sklearn.metrics.r2_score and sklearn.metrics.mean_squared_error\n",
    "+  Implement a new model using L2 regularization\n",
    "> Use sklearn.linear_model.Ridge or sklearn.linear_model.Lasso \n",
    "+  Get the best model you can by optimizing the regularization parameter.   "
   ]
  },
  {
   "cell_type": "code",
   "execution_count": 1,
   "metadata": {
    "collapsed": false
   },
   "outputs": [
    {
     "name": "stderr",
     "output_type": "stream",
     "text": [
      "/Users/asyam/anaconda3/lib/python3.6/site-packages/sklearn/cross_validation.py:44: DeprecationWarning: This module was deprecated in version 0.18 in favor of the model_selection module into which all the refactored classes and functions are moved. Also note that the interface of the new CV iterators are different from that of this module. This module will be removed in 0.20.\n",
      "  \"This module will be removed in 0.20.\", DeprecationWarning)\n"
     ]
    }
   ],
   "source": [
    "from sklearn import datasets\n",
    "import pandas as pd\n",
    "from sklearn.preprocessing import StandardScaler\n",
    "from sklearn.cross_validation import train_test_split\n",
    "from sklearn.metrics import mean_squared_error\n",
    "from sklearn.metrics import r2_score\n",
    "from sklearn.linear_model import LinearRegression"
   ]
  },
  {
   "cell_type": "code",
   "execution_count": 2,
   "metadata": {
    "collapsed": false
   },
   "outputs": [
    {
     "name": "stdout",
     "output_type": "stream",
     "text": [
      "Boston House Prices dataset\n",
      "===========================\n",
      "\n",
      "Notes\n",
      "------\n",
      "Data Set Characteristics:  \n",
      "\n",
      "    :Number of Instances: 506 \n",
      "\n",
      "    :Number of Attributes: 13 numeric/categorical predictive\n",
      "    \n",
      "    :Median Value (attribute 14) is usually the target\n",
      "\n",
      "    :Attribute Information (in order):\n",
      "        - CRIM     per capita crime rate by town\n",
      "        - ZN       proportion of residential land zoned for lots over 25,000 sq.ft.\n",
      "        - INDUS    proportion of non-retail business acres per town\n",
      "        - CHAS     Charles River dummy variable (= 1 if tract bounds river; 0 otherwise)\n",
      "        - NOX      nitric oxides concentration (parts per 10 million)\n",
      "        - RM       average number of rooms per dwelling\n",
      "        - AGE      proportion of owner-occupied units built prior to 1940\n",
      "        - DIS      weighted distances to five Boston employment centres\n",
      "        - RAD      index of accessibility to radial highways\n",
      "        - TAX      full-value property-tax rate per $10,000\n",
      "        - PTRATIO  pupil-teacher ratio by town\n",
      "        - B        1000(Bk - 0.63)^2 where Bk is the proportion of blacks by town\n",
      "        - LSTAT    % lower status of the population\n",
      "        - MEDV     Median value of owner-occupied homes in $1000's\n",
      "\n",
      "    :Missing Attribute Values: None\n",
      "\n",
      "    :Creator: Harrison, D. and Rubinfeld, D.L.\n",
      "\n",
      "This is a copy of UCI ML housing dataset.\n",
      "http://archive.ics.uci.edu/ml/datasets/Housing\n",
      "\n",
      "\n",
      "This dataset was taken from the StatLib library which is maintained at Carnegie Mellon University.\n",
      "\n",
      "The Boston house-price data of Harrison, D. and Rubinfeld, D.L. 'Hedonic\n",
      "prices and the demand for clean air', J. Environ. Economics & Management,\n",
      "vol.5, 81-102, 1978.   Used in Belsley, Kuh & Welsch, 'Regression diagnostics\n",
      "...', Wiley, 1980.   N.B. Various transformations are used in the table on\n",
      "pages 244-261 of the latter.\n",
      "\n",
      "The Boston house-price data has been used in many machine learning papers that address regression\n",
      "problems.   \n",
      "     \n",
      "**References**\n",
      "\n",
      "   - Belsley, Kuh & Welsch, 'Regression diagnostics: Identifying Influential Data and Sources of Collinearity', Wiley, 1980. 244-261.\n",
      "   - Quinlan,R. (1993). Combining Instance-Based and Model-Based Learning. In Proceedings on the Tenth International Conference of Machine Learning, 236-243, University of Massachusetts, Amherst. Morgan Kaufmann.\n",
      "   - many more! (see http://archive.ics.uci.edu/ml/datasets/Housing)\n",
      "\n"
     ]
    }
   ],
   "source": [
    "bean = datasets.load_boston()\n",
    "print(bean.DESCR)"
   ]
  },
  {
   "cell_type": "code",
   "execution_count": 3,
   "metadata": {
    "collapsed": false
   },
   "outputs": [],
   "source": [
    "def load_boston():\n",
    "    scaler = StandardScaler()\n",
    "    boston = datasets.load_boston()\n",
    "    X=boston.data\n",
    "    y=boston.target\n",
    "    X = scaler.fit_transform(X)\n",
    "    # Using PRNG seed for deterministic result\n",
    "    return train_test_split(X,y,random_state=42)\n",
    "    "
   ]
  },
  {
   "cell_type": "code",
   "execution_count": 4,
   "metadata": {
    "collapsed": false
   },
   "outputs": [],
   "source": [
    "X_train, X_test, y_train, y_test = load_boston()"
   ]
  },
  {
   "cell_type": "code",
   "execution_count": 5,
   "metadata": {
    "collapsed": false
   },
   "outputs": [
    {
     "data": {
      "text/plain": [
       "(379, 13)"
      ]
     },
     "execution_count": 5,
     "metadata": {},
     "output_type": "execute_result"
    }
   ],
   "source": [
    "X_train.shape"
   ]
  },
  {
   "cell_type": "markdown",
   "metadata": {},
   "source": [
    "### Fitting a Linear Regression\n",
    "\n",
    "It's as easy as instantiating a new regression object (line 1) and giving your regression object your training data\n",
    "(line 2) by calling .fit(independent variables, dependent variable)\n",
    "\n"
   ]
  },
  {
   "cell_type": "code",
   "execution_count": 6,
   "metadata": {
    "collapsed": false
   },
   "outputs": [
    {
     "data": {
      "text/plain": [
       "LinearRegression(copy_X=True, fit_intercept=True, n_jobs=1, normalize=False)"
      ]
     },
     "execution_count": 6,
     "metadata": {},
     "output_type": "execute_result"
    }
   ],
   "source": [
    "clf = LinearRegression()\n",
    "clf.fit(X_train, y_train)"
   ]
  },
  {
   "cell_type": "markdown",
   "metadata": {},
   "source": [
    "### Making a Prediction\n",
    "X_test is our holdout set of data.  We know the answer (y_test) but the computer does not.   \n",
    "\n",
    "Using the command below, I create a tuple for each observation, where I'm combining the real value (y_test) with\n",
    "the value our regressor predicts (clf.predict(X_test))\n",
    "\n",
    "Use a similiar format to get your r2 and mse metrics working.  Using the [scikit learn api](http://scikit-learn.org/stable/modules/model_evaluation.html) if you need help!"
   ]
  },
  {
   "cell_type": "code",
   "execution_count": 7,
   "metadata": {
    "collapsed": false
   },
   "outputs": [
    {
     "data": {
      "text/plain": [
       "[(23.600000000000001, 28.844352557524342),\n",
       " (32.399999999999999, 36.015286451529789),\n",
       " (13.6, 15.090497984319434),\n",
       " (22.800000000000001, 25.23939436940077),\n",
       " (16.100000000000001, 18.870348325055829),\n",
       " (20.0, 23.218427485264236),\n",
       " (17.800000000000001, 17.591518544236575),\n",
       " (14.0, 14.29798014403813),\n",
       " (19.600000000000001, 23.058325584969452),\n",
       " (16.800000000000001, 20.62071271456735),\n",
       " (21.5, 24.79141888614939),\n",
       " (18.899999999999999, 18.667563182885729),\n",
       " (7.0, -7.0082161577483078),\n",
       " (21.199999999999999, 21.839868921512458),\n",
       " (18.5, 19.213279642551853),\n",
       " (29.800000000000001, 26.279332860933355),\n",
       " (18.800000000000001, 20.547501898690665),\n",
       " (10.199999999999999, 5.6522881838407706),\n",
       " (50.0, 40.419627464842492),\n",
       " (14.1, 17.637393568678576),\n",
       " (25.199999999999999, 27.326635411423929),\n",
       " (29.100000000000001, 30.054266159276914),\n",
       " (12.699999999999999, 11.139585790208546),\n",
       " (22.399999999999999, 24.114180197726181),\n",
       " (14.199999999999999, 17.879751223735248),\n",
       " (13.800000000000001, 15.79393108620337),\n",
       " (20.300000000000001, 22.958101728487645),\n",
       " (14.9, 14.198244930688048),\n",
       " (21.699999999999999, 22.271711613557201),\n",
       " (18.300000000000001, 19.248930291418997),\n",
       " (23.100000000000001, 22.27637517844698),\n",
       " (23.800000000000001, 25.245890651370615),\n",
       " (15.0, 25.69068289522825),\n",
       " (20.800000000000001, 17.990060134319805),\n",
       " (19.100000000000001, 16.691096847537693),\n",
       " (19.399999999999999, 17.100928769055805),\n",
       " (34.700000000000003, 31.198778231616927),\n",
       " (19.5, 20.178674045012446),\n",
       " (24.399999999999999, 23.720512886917348),\n",
       " (23.399999999999999, 24.795329379437931),\n",
       " (19.699999999999999, 13.944476116122468),\n",
       " (28.199999999999999, 32.002713220237503),\n",
       " (50.0, 42.533577422699835),\n",
       " (17.399999999999999, 17.450436166658587),\n",
       " (22.600000000000001, 27.157272268525993),\n",
       " (15.1, 17.074633841186198),\n",
       " (13.1, 13.886458033187415),\n",
       " (24.199999999999999, 26.068000467062411),\n",
       " (19.899999999999999, 20.368192468644665),\n",
       " (24.0, 29.984248307012511),\n",
       " (18.899999999999999, 21.357650038420729),\n",
       " (35.399999999999999, 34.325835259095058),\n",
       " (15.199999999999999, 15.87960152072511),\n",
       " (26.5, 26.177957488691554),\n",
       " (43.5, 39.510380695119267),\n",
       " (21.199999999999999, 22.840495102019833),\n",
       " (18.399999999999999, 18.944777097712517),\n",
       " (28.5, 32.690087966299622),\n",
       " (23.899999999999999, 25.022688347127321),\n",
       " (18.5, 12.902627371270604),\n",
       " (25.0, 22.753486266583565),\n",
       " (35.399999999999999, 30.53134480112357),\n",
       " (31.5, 31.610700115514991),\n",
       " (20.199999999999999, 15.910803077635855),\n",
       " (24.100000000000001, 20.502120527796912),\n",
       " (20.0, 16.512892188244546),\n",
       " (13.1, 20.496983280545784),\n",
       " (24.800000000000001, 26.011071699886333),\n",
       " (30.800000000000001, 30.640013972470548),\n",
       " (12.699999999999999, 11.371709573175981),\n",
       " (20.0, 20.540831015871497),\n",
       " (23.699999999999999, 27.566520623408259),\n",
       " (10.800000000000001, 10.825236385979306),\n",
       " (20.600000000000001, 15.963382874131788),\n",
       " (20.800000000000001, 23.882880413974895),\n",
       " (5.0, 5.6698480276458945),\n",
       " (20.100000000000001, 21.480150233399023),\n",
       " (48.5, 41.277817731396567),\n",
       " (10.9, 18.561622683031253),\n",
       " (7.0, 9.0889029380710955),\n",
       " (20.899999999999999, 20.985158706649855),\n",
       " (17.199999999999999, 13.049450225091467),\n",
       " (20.899999999999999, 20.994579178638006),\n",
       " (9.6999999999999993, 9.3404527213439366),\n",
       " (19.399999999999999, 23.142646644628002),\n",
       " (29.0, 31.800461481602927),\n",
       " (16.399999999999999, 19.074330587934849),\n",
       " (25.0, 25.594636108539422),\n",
       " (25.0, 29.154401974396933),\n",
       " (17.100000000000001, 20.176163791011213),\n",
       " (23.199999999999999, 25.600649355120098),\n",
       " (10.4, 5.1723353594086738),\n",
       " (19.600000000000001, 20.172357681541136),\n",
       " (17.199999999999999, 15.082814798664735),\n",
       " (27.5, 12.87873207583999),\n",
       " (23.0, 20.811947902312959),\n",
       " (50.0, 24.689544957941237),\n",
       " (17.899999999999999, -0.81940790466019919),\n",
       " (9.5999999999999996, 13.285531695600385),\n",
       " (17.199999999999999, 15.57683923579626),\n",
       " (22.5, 22.219617850851847),\n",
       " (21.399999999999999, 24.5882682767521),\n",
       " (12.0, 10.770373604953155),\n",
       " (19.899999999999999, 19.504292439983441),\n",
       " (19.399999999999999, 23.236553690831983),\n",
       " (13.4, 11.716412988346704),\n",
       " (18.199999999999999, 18.370403445072689),\n",
       " (24.600000000000001, 25.439454284842299),\n",
       " (21.100000000000001, 20.890132262597433),\n",
       " (24.699999999999999, 24.085446007149411),\n",
       " (8.6999999999999993, 7.3057489619123377),\n",
       " (27.5, 19.133002970977266),\n",
       " (20.699999999999999, 21.934543162491323),\n",
       " (36.200000000000003, 27.416619232769307),\n",
       " (31.600000000000001, 32.506455245740952),\n",
       " (11.699999999999999, 14.83063812323037),\n",
       " (39.799999999999997, 35.053741407896268),\n",
       " (13.9, 12.848489355042183),\n",
       " (21.800000000000001, 20.834338369827186),\n",
       " (23.699999999999999, 28.421927208238564),\n",
       " (17.600000000000001, 15.659573100486462),\n",
       " (24.399999999999999, 24.672029320240078),\n",
       " (8.8000000000000007, 3.263616313547363),\n",
       " (19.199999999999999, 23.806515669921112),\n",
       " (25.300000000000001, 25.737345659499187),\n",
       " (20.399999999999999, 23.052969743138853),\n",
       " (23.100000000000001, 24.729111969608219)]"
      ]
     },
     "execution_count": 7,
     "metadata": {},
     "output_type": "execute_result"
    }
   ],
   "source": [
    "list(zip (y_test, clf.predict(X_test)))"
   ]
  },
  {
   "cell_type": "markdown",
   "metadata": {},
   "source": [
    "### Measure the performance of the model"
   ]
  },
  {
   "cell_type": "code",
   "execution_count": 8,
   "metadata": {
    "collapsed": false
   },
   "outputs": [],
   "source": [
    "#Store predicted values in an array\n",
    "y_test_pred = clf.predict(X_test)"
   ]
  },
  {
   "cell_type": "code",
   "execution_count": 9,
   "metadata": {
    "collapsed": false
   },
   "outputs": [
    {
     "data": {
      "text/plain": [
       "0.68395572431793372"
      ]
     },
     "execution_count": 9,
     "metadata": {},
     "output_type": "execute_result"
    }
   ],
   "source": [
    "#r2 score\n",
    "r2_score(y_test, y_test_pred)"
   ]
  },
  {
   "cell_type": "code",
   "execution_count": 10,
   "metadata": {
    "collapsed": false
   },
   "outputs": [
    {
     "data": {
      "text/plain": [
       "22.131677894303238"
      ]
     },
     "execution_count": 10,
     "metadata": {},
     "output_type": "execute_result"
    }
   ],
   "source": [
    "#mse\n",
    "mean_squared_error(y_test, y_test_pred)"
   ]
  },
  {
   "cell_type": "markdown",
   "metadata": {},
   "source": [
    "### Use ridge regression model for prediction"
   ]
  },
  {
   "cell_type": "code",
   "execution_count": 11,
   "metadata": {
    "collapsed": false
   },
   "outputs": [],
   "source": [
    "from sklearn import linear_model\n",
    "clf = linear_model.Ridge()\n",
    "clf.fit(X_train, y_train)\n",
    "y_test_pred = clf.predict(X_test)"
   ]
  },
  {
   "cell_type": "code",
   "execution_count": 12,
   "metadata": {
    "collapsed": false
   },
   "outputs": [
    {
     "data": {
      "text/plain": [
       "0.68369995075750789"
      ]
     },
     "execution_count": 12,
     "metadata": {},
     "output_type": "execute_result"
    }
   ],
   "source": [
    "r2_score(y_test, y_test_pred)"
   ]
  },
  {
   "cell_type": "code",
   "execution_count": 13,
   "metadata": {
    "collapsed": false
   },
   "outputs": [
    {
     "data": {
      "text/plain": [
       "22.14958898616214"
      ]
     },
     "execution_count": 13,
     "metadata": {},
     "output_type": "execute_result"
    }
   ],
   "source": [
    "mean_squared_error(y_test, y_test_pred)"
   ]
  },
  {
   "cell_type": "markdown",
   "metadata": {},
   "source": [
    "<strong>Using an alpha value = 0.1 increases r2 score by 0.0003 and decreases MSE by 0.0161"
   ]
  },
  {
   "cell_type": "code",
   "execution_count": 14,
   "metadata": {
    "collapsed": false
   },
   "outputs": [],
   "source": [
    "reg = linear_model.Ridge(alpha = 0.1)\n",
    "reg.fit(X_train, y_train)\n",
    "y_test_pred = reg.predict(X_test)"
   ]
  },
  {
   "cell_type": "code",
   "execution_count": 15,
   "metadata": {
    "collapsed": false
   },
   "outputs": [
    {
     "data": {
      "text/plain": [
       "0.68393020379990399"
      ]
     },
     "execution_count": 15,
     "metadata": {},
     "output_type": "execute_result"
    }
   ],
   "source": [
    "r2_score(y_test, y_test_pred)"
   ]
  },
  {
   "cell_type": "code",
   "execution_count": 16,
   "metadata": {
    "collapsed": false
   },
   "outputs": [
    {
     "data": {
      "text/plain": [
       "22.133465023285432"
      ]
     },
     "execution_count": 16,
     "metadata": {},
     "output_type": "execute_result"
    }
   ],
   "source": [
    "mean_squared_error(y_test, y_test_pred)"
   ]
  }
 ],
 "metadata": {
  "kernelspec": {
   "display_name": "Python 3",
   "language": "python",
   "name": "python3"
  },
  "language_info": {
   "codemirror_mode": {
    "name": "ipython",
    "version": 3
   },
   "file_extension": ".py",
   "mimetype": "text/x-python",
   "name": "python",
   "nbconvert_exporter": "python",
   "pygments_lexer": "ipython3",
   "version": "3.6.0"
  }
 },
 "nbformat": 4,
 "nbformat_minor": 0
}
